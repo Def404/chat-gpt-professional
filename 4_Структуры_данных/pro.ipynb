{
 "cells": [
  {
   "cell_type": "markdown",
   "metadata": {},
   "source": [
    "# Задание 1"
   ]
  },
  {
   "cell_type": "markdown",
   "metadata": {},
   "source": [
    "Создайте произвольный список длиной 5 с данными целочисленного типа (числа от 0 до 100). Измените этот список так, что те числа, которые больше 50 - должны увеличиться на 100, а остальные - возвестись в квадрат.\n",
    "\n",
    "Примечание: С применением List comprehension и условием внутри\n"
   ]
  },
  {
   "cell_type": "code",
   "execution_count": null,
   "metadata": {},
   "outputs": [
    {
     "name": "stdout",
     "output_type": "stream",
     "text": [
      "[1, 25, 50, 75, 100]\n",
      "[1, 625, 2500, 175, 200]\n"
     ]
    }
   ],
   "source": [
    "nums = [1, 25, 50, 75, 100]\n",
    "arr_list = [n + 100 if n>50 else n ** 2 for n in nums]\n",
    "\n",
    "print(nums)\n",
    "print(arr_list)"
   ]
  },
  {
   "cell_type": "markdown",
   "metadata": {},
   "source": [
    "# Задание 2"
   ]
  },
  {
   "cell_type": "markdown",
   "metadata": {},
   "source": [
    "Создайте список с вложенными списками и преобразуйте в словарь, чтобы получилось:\n",
    "\n",
    "```\n",
    "id1:\n",
    "    name: ....\n",
    "    age: ....\n",
    "id2:\n",
    "    name: ....\n",
    "    age: ....\n",
    "id3:\n",
    "    name: ....\n",
    "    age: ....\n",
    "```\n",
    "Выведите с помощью цикла на экран:\n",
    "\n",
    "1. Все имена пользователей\n",
    "2. Средний возраст\n"
   ]
  },
  {
   "cell_type": "code",
   "execution_count": null,
   "metadata": {},
   "outputs": [
    {
     "name": "stdout",
     "output_type": "stream",
     "text": [
      "{'id1': {'age': 14, 'name': 'Саша'},\n",
      " 'id2': {'age': 18, 'name': 'Петя'},\n",
      " 'id3': {'age': 15, 'name': 'Вася'},\n",
      " 'id4': {'age': 21, 'name': 'Сережа'}}\n"
     ]
    }
   ],
   "source": [
    "import pprint\n",
    "\n",
    "user_list = [\n",
    "    ['id1', [['name', 'Саша'], ['age', 14]]],\n",
    "    ['id2', [['name', 'Петя'], ['age', 18]]],\n",
    "    ['id3', [['name', 'Вася'], ['age', 15]]],\n",
    "    ['id4', [['name', 'Сережа'], ['age', 21]]],\n",
    "]\n",
    "\n",
    "user_dict = {user[0]: dict(user[1]) for user in user_list}\n",
    "pprint.pprint(user_dict)"
   ]
  },
  {
   "cell_type": "code",
   "execution_count": null,
   "metadata": {},
   "outputs": [
    {
     "name": "stdout",
     "output_type": "stream",
     "text": [
      "Все имена: Саша Петя Вася Сережа\n"
     ]
    }
   ],
   "source": [
    "print('Все имена:', *[user['name'] for user in user_dict.values()])"
   ]
  },
  {
   "cell_type": "code",
   "execution_count": null,
   "metadata": {},
   "outputs": [
    {
     "name": "stdout",
     "output_type": "stream",
     "text": [
      "Средний возраст: 17.0\n"
     ]
    }
   ],
   "source": [
    "avg = sum(user['age'] for user in user_dict.values()) / len(user_dict);\n",
    "print('Средний возраст:', avg)"
   ]
  }
 ],
 "metadata": {
  "language_info": {
   "name": "python"
  }
 },
 "nbformat": 4,
 "nbformat_minor": 2
}
