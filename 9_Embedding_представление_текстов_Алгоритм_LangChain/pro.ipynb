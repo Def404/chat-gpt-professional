{
 "cells": [
  {
   "cell_type": "markdown",
   "metadata": {},
   "source": [
    "Задание:\n",
    "\n",
    "На основе Правил безопасности опасных производственных объектов, на которых используются подъемные сооружения (Документ для создания базы знаний: https://docs.google.com/document/d/1q4l912Re8zuIfBax4FDS3ZppYmVPzER3Si2wrmznddc), сделайте:\n",
    "- нейро-консультанта для ответов на вопросы по представленному документу, проработайте промт самостоятельно;\n",
    "- Проверьте работоспособность созданного консультанта на нескольких самостоятельно сформулированных вопросах."
   ]
  },
  {
   "cell_type": "code",
   "execution_count": null,
   "metadata": {},
   "outputs": [],
   "source": [
    "# установка библиотек\n",
    "\n",
    "!pip install faiss-cpu==1.8.0 openai==1.55.3 tiktoken==0.7.0 langchain_openai==0.1.22 langchain_community==0.2.12"
   ]
  },
  {
   "cell_type": "code",
   "execution_count": null,
   "metadata": {},
   "outputs": [],
   "source": [
    "# импорт библиотек\n",
    "\n",
    "import os\n",
    "import getpass\n",
    "from langchain_openai import OpenAIEmbeddings\n",
    "from langchain.text_splitter import CharacterTextSplitter\n",
    "from langchain_community.vectorstores import FAISS\n",
    "from langchain.document_loaders import TextLoader\n",
    "from langchain.text_splitter import RecursiveCharacterTextSplitter\n",
    "import re\n",
    "import requests\n",
    "import openai\n",
    "from langchain.docstore.document import Document"
   ]
  },
  {
   "cell_type": "code",
   "execution_count": null,
   "metadata": {},
   "outputs": [],
   "source": [
    "# ключ от OpenAI\n",
    "\n",
    "openai_key = getpass.getpass(\"OpenAI API Key:\")\n",
    "os.environ[\"OPENAI_API_KEY\"] = openai_key\n",
    "openai.api_key = openai_key"
   ]
  },
  {
   "cell_type": "code",
   "execution_count": null,
   "metadata": {},
   "outputs": [],
   "source": [
    "# Создание клиента OpenAI с использованием API ключа из переменных среды\n",
    "\n",
    "\n",
    "\n"
   ]
  },
  {
   "cell_type": "code",
   "execution_count": null,
   "metadata": {},
   "outputs": [],
   "source": [
    "# функция для загрузки документа по ссылке из гугл драйв\n",
    "\n",
    "def load_document_text(url: str) -> str:\n",
    "    # Extract the document ID from the URL\n",
    "    match_ = re.search('/document/d/([a-zA-Z0-9-_]+)', url)\n",
    "    if match_ is None:\n",
    "        raise ValueError('Invalid Google Docs URL')\n",
    "    doc_id = match_.group(1)\n",
    "\n",
    "    # Download the document as plain text\n",
    "    response = requests.get(f'https://docs.google.com/document/d/{doc_id}/export?format=txt')\n",
    "    response.raise_for_status()\n",
    "    text = response.text\n",
    "\n",
    "    return text"
   ]
  },
  {
   "cell_type": "code",
   "execution_count": null,
   "metadata": {},
   "outputs": [],
   "source": [
    "# База знаний, которая будет подаваться в langChain\n",
    "data_from_url= load_document_text('https://docs.google.com/document/d/1q4l912Re8zuIfBax4FDS3ZppYmVPzER3Si2wrmznddc')\n",
    "data_from_url"
   ]
  },
  {
   "cell_type": "code",
   "execution_count": null,
   "metadata": {},
   "outputs": [],
   "source": [
    "# деление на чанки\n",
    "source_chunks = []\n",
    "splitter = CharacterTextSplitter(separator=\" \", chunk_size=1024, chunk_overlap=0)\n",
    "\n",
    "for chunk in splitter.split_text(data_from_url):\n",
    "    source_chunks.append(Document(page_content=chunk, metadata={}))\n",
    "\n",
    "source_chunks"
   ]
  },
  {
   "cell_type": "code",
   "execution_count": null,
   "metadata": {},
   "outputs": [],
   "source": [
    "# Инициализирум модель эмбеддингов\n",
    "embeddings = OpenAIEmbeddings()\n",
    "\n",
    "# Создадим индексную базу из разделенных фрагментов текста\n",
    "db = FAISS.from_documents(source_chunks, embeddings)"
   ]
  },
  {
   "cell_type": "code",
   "execution_count": null,
   "metadata": {},
   "outputs": [],
   "source": [
    "# основная функция для получения ответов по БЗ\n",
    "\n",
    "def answer_index(system, topic, search_index, verbose=1):\n",
    "\n",
    "    # Поиск релевантных отрезков из базы знаний\n",
    "    docs = search_index.similarity_search(topic, k=4)\n",
    "    if verbose: print('\\n ===========================================: ')\n",
    "    message_content = re.sub(r'\\n{2}', ' ', '\\n '.join([f'\\nОтрывок документа №{i+1}\\n=====================' + doc.page_content + '\\n' for i, doc in enumerate(docs)]))\n",
    "    if verbose: print('message_content :\\n ======================================== \\n', message_content)\n",
    "    client = OpenAI()\n",
    "    messages = [\n",
    "        {\"role\": \"system\", \"content\": system},\n",
    "        {\"role\": \"user\", \"content\": f\"Ответь на вопрос клиента. Не упоминай документ с информацией для ответа клиенту в ответе. Документ с информацией для ответа клиенту: {message_content}\\n\\nВопрос клиента: \\n{topic}\"}\n",
    "    ]\n",
    "\n",
    "    if verbose: print('\\n ===========================================: ')\n",
    "\n",
    "    completion = client.chat.completions.create(\n",
    "        model=\"gpt-4o-mini\",\n",
    "        messages=messages,\n",
    "        temperature=0\n",
    "    )\n",
    "    answer = completion.choices[0].message.content\n",
    "    return answer"
   ]
  },
  {
   "cell_type": "code",
   "execution_count": null,
   "metadata": {},
   "outputs": [],
   "source": [
    "# самостоятельно напишите промпт\n",
    "system=\"Ты – консультант на производственном объекте, ответь на вопрос сотрудника строго на основе предоставленной информации. Не добавляй ничего от себя и не раскрывай источник информации.\""
   ]
  },
  {
   "cell_type": "code",
   "execution_count": null,
   "metadata": {},
   "outputs": [],
   "source": [
    "# проверьте работу нейро-консультанта на нескольких самостоятельно сформулированных вопросах, для получения более качественных ответов\n",
    "# можно поэкспериментировать с разделением на чанки и другими параметрами\n"
   ]
  },
  {
   "cell_type": "code",
   "execution_count": null,
   "metadata": {},
   "outputs": [],
   "source": [
    "# вопрос пользователя\n",
    "\n",
    "topic= \"Чем должна располагать специализированная организация?\"\n",
    "ans=answer_index(system, topic, db)\n",
    "ans"
   ]
  },
  {
   "cell_type": "code",
   "execution_count": null,
   "metadata": {},
   "outputs": [],
   "source": [
    "# вопрос пользователя\n",
    "\n",
    "topic= \"Что обязана делать огранизация при эксплуатации ПС?\"\n",
    "ans=answer_index(system, topic, db)\n",
    "ans"
   ]
  },
  {
   "cell_type": "code",
   "execution_count": null,
   "metadata": {},
   "outputs": [],
   "source": [
    "# вопрос пользователя\n",
    "\n",
    "topic= \"Какие требования нужны для установка кранов, передвигающихся по надземному рельсовому пути?\"\n",
    "ans=answer_index(system, topic, db)\n",
    "ans"
   ]
  }
 ],
 "metadata": {
  "language_info": {
   "name": "python"
  }
 },
 "nbformat": 4,
 "nbformat_minor": 2
}
