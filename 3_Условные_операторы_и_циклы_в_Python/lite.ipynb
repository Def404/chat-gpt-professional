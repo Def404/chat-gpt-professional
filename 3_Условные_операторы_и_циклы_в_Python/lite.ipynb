{
 "cells": [
  {
   "cell_type": "markdown",
   "metadata": {},
   "source": [
    "# Задание 1"
   ]
  },
  {
   "cell_type": "markdown",
   "metadata": {},
   "source": [
    "Пользователь вводит пароль с клавиатуры.\n",
    "\n",
    "Если введенный пароль оказывается правильным (в контексте задачи вы знаете правильный пароль), то выведите на экран \"Добро пожаловать\". Иначе выведите на экран \"Вам отказано в доступе\""
   ]
  },
  {
   "cell_type": "code",
   "execution_count": null,
   "metadata": {},
   "outputs": [
    {
     "name": "stdout",
     "output_type": "stream",
     "text": [
      "Введите пароль: 123\n",
      "Вам отказано в доступе\n"
     ]
    }
   ],
   "source": [
    "secret_password = '12345'\n",
    "\n",
    "user_password = input('Введите пароль: ')\n",
    "\n",
    "if user_password == secret_password:\n",
    "  print('Добро пожаловать')\n",
    "else:\n",
    "  print('Вам отказано в доступе')"
   ]
  },
  {
   "cell_type": "markdown",
   "metadata": {},
   "source": [
    "# Задание 2"
   ]
  },
  {
   "cell_type": "markdown",
   "metadata": {},
   "source": [
    "Выполните задание 1, но с применением pattern matching"
   ]
  },
  {
   "cell_type": "code",
   "execution_count": null,
   "metadata": {},
   "outputs": [
    {
     "name": "stdout",
     "output_type": "stream",
     "text": [
      "Введите пароль: 12234\n",
      "Вам отказано в доступе\n"
     ]
    }
   ],
   "source": [
    "user_password = input('Введите пароль: ')\n",
    "\n",
    "match user_password:\n",
    "  case '12345':\n",
    "    print('Добро пожаловать')\n",
    "  case _:\n",
    "    print('Вам отказано в доступе')"
   ]
  },
  {
   "cell_type": "markdown",
   "metadata": {},
   "source": [
    "# Задание 3"
   ]
  },
  {
   "cell_type": "markdown",
   "metadata": {},
   "source": [
    "Выведите на экран построчно числа от 58 до 50 включительно, используя цикл `while`."
   ]
  },
  {
   "cell_type": "code",
   "execution_count": null,
   "metadata": {},
   "outputs": [
    {
     "name": "stdout",
     "output_type": "stream",
     "text": [
      "58\n",
      "57\n",
      "56\n",
      "55\n",
      "54\n",
      "53\n",
      "52\n",
      "51\n",
      "50\n"
     ]
    }
   ],
   "source": [
    "start = 58\n",
    "end = 50\n",
    "\n",
    "while start >= 50:\n",
    "  print(start)\n",
    "  start -= 1"
   ]
  }
 ],
 "metadata": {
  "language_info": {
   "name": "python"
  }
 },
 "nbformat": 4,
 "nbformat_minor": 2
}
