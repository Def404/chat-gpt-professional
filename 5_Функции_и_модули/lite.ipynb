{
 "cells": [
  {
   "cell_type": "markdown",
   "metadata": {},
   "source": [
    "# Задание 1"
   ]
  },
  {
   "cell_type": "markdown",
   "metadata": {},
   "source": [
    "Напишите программу, которая будет:\n",
    "1. находить самое длинное слово в заданной строке.\n",
    "2. сколько вообще слов\n",
    "3. Получить индекс слова \"сервер\" и сколько раз оно встречается в строке\n",
    "\n",
    "```\n",
    "text = \"Начнем с процесса регистрации. Перед вами форма с несколькими полями: Имя, Логин, Пароль, Кличка вашей собаки. Вы покорно заполняете все поля со звездочками, после чего жмякаете на кнопку 'Зарегистрироваться'. Ваши данные отправляются на сервер при помощи HTTP, сервер создает в базе данных новую запись, и если все проходит успешно, то вы зарегистрировались в системе. То есть процесс регистрации – это просто сохранение на сервере 'в определенном текстовом файле' данных, которые вы заполнили на сайте.\"\n",
    "```\n",
    "\n",
    "Вывод должен быть таким:\n",
    "```\n",
    "1 - Самое длинное слово: ....\n",
    "2 - Количество слов в тексте: ....\n",
    "3 - Индекс слова \"сервер\": .....; Встречается в тексте: .... раз.\n",
    "```\n"
   ]
  },
  {
   "cell_type": "code",
   "execution_count": null,
   "metadata": {},
   "outputs": [
    {
     "name": "stdout",
     "output_type": "stream",
     "text": [
      "1 - Самое длинное слово: Зарегистрироваться\n",
      "2 - Количество слов в тексте: 74\n",
      "3 - Индекс слова \"сервер\": 238; Встречается в тексте: 3 раз.\n"
     ]
    }
   ],
   "source": [
    "import re\n",
    "\n",
    "text = \"Начнем с процесса регистрации. Перед вами форма с несколькими полями: Имя, Логин, Пароль, Кличка вашей собаки. Вы покорно заполняете все поля со звездочками, после чего жмякаете на кнопку 'Зарегистрироваться'. Ваши данные отправляются на сервер при помощи HTTP, сервер создает в базе данных новую запись, и если все проходит успешно, то вы зарегистрировались в системе. То есть процесс регистрации – это просто сохранение на сервере 'в определенном текстовом файле' данных, которые вы заполнили на сайте.\"\n",
    "\n",
    "words = re.sub(r'[^\\w\\s]', '', text).split(' ')\n",
    "\n",
    "print('1 - Самое длинное слово:', max(words, key=len))\n",
    "print('2 - Количество слов в тексте:', len(words))\n",
    "print(f'3 - Индекс слова \"сервер\": {text.find(\"сервер\")}; Встречается в тексте: {text.count(\"сервер\")} раз.')"
   ]
  },
  {
   "cell_type": "markdown",
   "metadata": {},
   "source": [
    "# Задание 2"
   ]
  },
  {
   "cell_type": "markdown",
   "metadata": {},
   "source": [
    "Создайте функцию \"list_expert()\", которая будет принимать неограниченное количество параметров и если передали числа, то вернуть их сумму, а если есть другие типы, то вывести списком их типы. Но если ввести 1 параметр, то его же и вывести.\n"
   ]
  },
  {
   "cell_type": "code",
   "execution_count": null,
   "metadata": {},
   "outputs": [
    {
     "name": "stdout",
     "output_type": "stream",
     "text": [
      "6\n"
     ]
    }
   ],
   "source": [
    "def list_expert(*args):\n",
    "  if len(args) == 1:\n",
    "    return args[0]\n",
    "  else:\n",
    "    if all(isinstance(x, (int, float)) for x in args):\n",
    "      return sum(args)\n",
    "    else:\n",
    "      return args\n",
    "\n",
    "print(list_expert(1, 2, 3))"
   ]
  },
  {
   "cell_type": "markdown",
   "metadata": {},
   "source": [
    "# Задание 3"
   ]
  },
  {
   "cell_type": "markdown",
   "metadata": {},
   "source": [
    "Допишите функцию из 2-го задания, чтобы, когда не передали вообще параметров, то она вернет строку \"Пустая функция\"."
   ]
  },
  {
   "cell_type": "code",
   "execution_count": null,
   "metadata": {},
   "outputs": [
    {
     "name": "stdout",
     "output_type": "stream",
     "text": [
      "Пустая функция\n"
     ]
    }
   ],
   "source": [
    "def list_expert(*args):\n",
    "  if len(args) == 0:\n",
    "    return 'Пустая функция'\n",
    "  elif len(args) == 1:\n",
    "    return args[0]\n",
    "  else:\n",
    "    if all(isinstance(x, (int, float)) for x in args):\n",
    "      return sum(args)\n",
    "    else:\n",
    "      return args\n",
    "\n",
    "print(list_expert())"
   ]
  },
  {
   "cell_type": "markdown",
   "metadata": {},
   "source": [
    "# Задание 4"
   ]
  },
  {
   "cell_type": "markdown",
   "metadata": {},
   "source": [
    "Создайте функцию `random_numbers()`, которая будет формировать список случайных чисел и принимать 3 параметра:\n",
    "1. число повторений (сколько чисел будет в списке)\n",
    "2. количество знаков после запятой\n",
    "3. сортировать или нет (со значением по умолчанию)\n",
    "\n",
    "Написать декоратор для этой функции, который будет выводить параметры этой функции."
   ]
  },
  {
   "cell_type": "code",
   "execution_count": null,
   "metadata": {},
   "outputs": [
    {
     "name": "stdout",
     "output_type": "stream",
     "text": [
      "Аргументы: (5, 2)\n",
      "Ключевые аргументы: {}\n",
      "[0.97, 0.97, 0.87, 0.4, 0.36]\n"
     ]
    }
   ],
   "source": [
    "import random\n",
    "\n",
    "def my_decarator(func):\n",
    "  def wrapper(*args, **kwargs):\n",
    "    print(f\"Аргументы: {args}\")\n",
    "    print(f\"Ключевые аргументы: {kwargs}\")\n",
    "\n",
    "    result = func(*args, **kwargs)\n",
    "\n",
    "    return result\n",
    "  return wrapper\n",
    "\n",
    "@my_decarator\n",
    "def random_numbers(count_list: int, count_nums: int, sort = False):\n",
    "  temp = []\n",
    "  for i in range(0, count_list):\n",
    "    temp.append(round(random.random(), count_nums))\n",
    "\n",
    "  if sort == True:\n",
    "    temp.sort()\n",
    "\n",
    "  return(temp)\n",
    "\n",
    "print(random_numbers(5, 2))"
   ]
  },
  {
   "cell_type": "markdown",
   "metadata": {},
   "source": [
    "# Задание 5"
   ]
  },
  {
   "cell_type": "markdown",
   "metadata": {},
   "source": [
    "С помощью функции `map()` переделайте список имен, чтобы они начинались с заглавной буквы, остальные маленькие, а также убрать числа из имен.\n",
    "Примечание. Примените встроенную функцию `map()` и регулярное выражение.\n",
    "```\n",
    "names = [\"МиХ3аИл\", \"1юРИ7Й\", \"тАт4Ь6яНа\", \"м5ар1ГО\", \"в4арВ3АРа\"]\n",
    "```\n"
   ]
  },
  {
   "cell_type": "code",
   "execution_count": null,
   "metadata": {},
   "outputs": [
    {
     "name": "stdout",
     "output_type": "stream",
     "text": [
      "Михаил Юрий Татьяна Марго Варвара\n"
     ]
    }
   ],
   "source": [
    "names = [\"МиХ3аИл\", \"1юРИ7Й\", \"тАт4Ь6яНа\", \"м5ар1ГО\", \"в4арВ3АРа\"]\n",
    "\n",
    "new_names = map(lambda x: re.sub(r\"\\d+\", \"\", x.lower()).title(), names)\n",
    "\n",
    "print(*new_names)"
   ]
  }
 ],
 "metadata": {
  "language_info": {
   "name": "python"
  }
 },
 "nbformat": 4,
 "nbformat_minor": 2
}
