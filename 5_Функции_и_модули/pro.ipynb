{
 "cells": [
  {
   "cell_type": "markdown",
   "metadata": {},
   "source": [
    "# Задание 1"
   ]
  },
  {
   "cell_type": "markdown",
   "metadata": {},
   "source": [
    "Напишите функцию `info_kwargs()`, которая принимает произвольное количество именованных аргументов и печатает именованные аргументы в соответствии с образцом: `<имя аргумента>: <значение аргумента>`, при этом имена аргументов следуют в алфавитном порядке (по возрастанию).\n",
    "\n",
    "Примечание 1. Обратите внимание, что функция должна принимать не список, а именно произвольное количество именованных аргументов.\n",
    "\n",
    "Примечание 2. Следующий программный код:\n",
    "```\n",
    "info_kwargs(first_name='Михаил', last_name='Деркунов', age=36, job='Учитель')\n",
    "```\n",
    "Должен выводить:\n",
    "```\n",
    "age: 36\n",
    "first_name: Михаил\n",
    "job: Учитель\n",
    "last_name: Деркунов\n",
    "```"
   ]
  },
  {
   "cell_type": "code",
   "execution_count": null,
   "metadata": {},
   "outputs": [
    {
     "name": "stdout",
     "output_type": "stream",
     "text": [
      "age: 36\n",
      "first_name: Михаил\n",
      "job: Учитель\n",
      "last_name: Деркунов\n"
     ]
    }
   ],
   "source": [
    "def info_kwargs(**kwargs):\n",
    "  sorted_kwargs = dict(sorted(kwargs.items()))\n",
    "  for k, v in sorted_kwargs.items():\n",
    "        print(f\"{k}: {v}\")\n",
    "\n",
    "info_kwargs(first_name='Михаил', last_name='Деркунов', age=36, job='Учитель')"
   ]
  },
  {
   "cell_type": "markdown",
   "metadata": {},
   "source": [
    "# Задание 2"
   ]
  },
  {
   "cell_type": "markdown",
   "metadata": {},
   "source": [
    "Напишите программу, которая с помощью функций `filter_nums()` и `map_nums()` отбирает из заданного списка `numbers` трёхзначные числа, дающие при делении на 5 остаток 2, и выводит их кубы, каждый в отдельной строке.\n",
    "\n",
    "Примечание. Остаток 2 при делении на 5 должно давать само число, а не его куб.\n",
    "\n",
    "```\n",
    "numbers = [1014, 1321, 675, 1215, 56, 1386, 1385, 431, 1058, 486, 1434, 696, 1016, 1084, 424, 1189, 475, 95, 1434, 1462, 815, 776, 657, 1225, 912, 537, 1478, 1176, 544, 488, 668, 944, 207, 266, 1309, 1027, 257, 1374, 1289, 1155, 230, 866, 708, 144, 1434, 1163, 345, 394, 560, 338, 232, 182, 1438, 1127, 928, 1309, 98, 530, 1013, 898, 669, 105, 130, 1363, 947, 72, 1278, 166, 904, 349, 831, 1207, 1496, 370, 725, 926, 175, 959, 1282, 336, 1268, 351, 1439, 186, 273, 1008, 231, 138, 142, 433, 456, 1268, 1018, 1274, 387, 120, 340, 963, 832, 1127]\n",
    "```\n"
   ]
  },
  {
   "cell_type": "code",
   "execution_count": null,
   "metadata": {},
   "outputs": [
    {
     "name": "stdout",
     "output_type": "stream",
     "text": [
      "[283593393, 758550528, 154854153, 8869743, 16974593, 12487168, 6028568, 849278123, 2863288, 57960603, 575930368]\n"
     ]
    }
   ],
   "source": [
    "def filter_nums(numbers):\n",
    "    return list(filter(lambda x: 100 <= x <= 999 and x % 5 == 2, numbers))\n",
    "\n",
    "def map_nums(filtered_numbers):\n",
    "    return list(map(lambda x: x ** 3, filtered_numbers))\n",
    "\n",
    "numbers = [1014, 1321, 675, 1215, 56, 1386, 1385, 431, 1058, 486, 1434, 696, 1016, 1084, 424, 1189, 475, 95, 1434, 1462, 815, 776, 657, 1225, 912, 537, 1478, 1176, 544, 488, 668, 944, 207, 266, 1309, 1027, 257, 1374, 1289, 1155, 230, 866, 708, 144, 1434, 1163, 345, 394, 560, 338, 232, 182, 1438, 1127, 928, 1309, 98, 530, 1013, 898, 669, 105, 130, 1363, 947, 72, 1278, 166, 904, 349, 831, 1207, 1496, 370, 725, 926, 175, 959, 1282, 336, 1268, 351, 1439, 186, 273, 1008, 231, 138, 142, 433, 456, 1268, 1018, 1274, 387, 120, 340, 963, 832, 1127]\n",
    "\n",
    "filtered_numbers = filter_nums(numbers)\n",
    "\n",
    "map_numbers = map_nums(filtered_numbers)\n",
    "\n",
    "print(map_numbers)"
   ]
  },
  {
   "cell_type": "markdown",
   "metadata": {},
   "source": [
    "# Задание 3"
   ]
  },
  {
   "cell_type": "markdown",
   "metadata": {},
   "source": [
    "Напишите функцию замыкание для проверки, является ли заданное значение x корнем уравнения:\n",
    "\n",
    "`a*x^2 + b*x + c = 0`\n",
    "\n",
    "`D = b^2 - 4*a*c`\n",
    "\n",
    "Если D будет возвращать значение <=0, тогда выводить (f\"Результата не будет, потому что D = {D}\")\n",
    "\n",
    "Иначе выводить результат первого примера a*x^2 + b*x + c = ?\n",
    "\n",
    "Примечание. Во внешнюю функцию будет поступать 3 параметра, а во внутреннюю 1.\n"
   ]
  },
  {
   "cell_type": "code",
   "execution_count": null,
   "metadata": {},
   "outputs": [
    {
     "name": "stdout",
     "output_type": "stream",
     "text": [
      "2\n"
     ]
    }
   ],
   "source": [
    "def multiply(a: int | float, b: int | float, c: int | float):\n",
    "    def inner(x: int | float):\n",
    "        return a*x**2 + b*x + c\n",
    "    D = b**2 - 4*a*c\n",
    "\n",
    "    if D <= 0:\n",
    "      return lambda x: f\"Результата не будет, потому что D = {D}\"\n",
    "    else:\n",
    "      return inner\n",
    "\n",
    "evaluate = multiply(1, -3, 2)\n",
    "result = evaluate(3)\n",
    "print(result)"
   ]
  },
  {
   "cell_type": "markdown",
   "metadata": {},
   "source": [
    "# Задание 4"
   ]
  },
  {
   "cell_type": "markdown",
   "metadata": {},
   "source": [
    "Напишите программу, которая с помощью встроенных функций `filter()`, `map()`, `sorted()` и `reduce()` выводит в алфавитном порядке список `primary` городов с населением более 10000000 человек, в формате:\n",
    "\n",
    "`Cities: Beijing, Buenos Aires, ...`\n",
    "\n",
    "```\n",
    "from functools import reduce\n",
    "\n",
    "data = [['Tokyo', 35676000, 'primary'],\n",
    "        ['New York', 19354922, 'nan'],\n",
    "        ['Mexico City', 19028000, 'primary'],\n",
    "        ['Mumbai', 18978000, 'admin'],\n",
    "        ['Sao Paulo', 18845000, 'admin'],\n",
    "        ['Delhi', 15926000, 'admin'],\n",
    "        ['Shanghai', 14987000, 'admin'],\n",
    "        ['Kolkata', 14787000, 'admin'],\n",
    "        ['Los Angeles', 12815475, 'nan'],\n",
    "        ['Dhaka', 12797394, 'primary'],\n",
    "        ['Buenos Aires', 12795000, 'primary'],\n",
    "        ['Karachi', 12130000, 'admin'],\n",
    "        ['Cairo', 11893000, 'primary'],\n",
    "        ['Rio de Janeiro', 11748000, 'admin'],\n",
    "        ['Osaka', 11294000, 'admin'],\n",
    "        ['Beijing', 11106000, 'primary'],\n",
    "        ['Manila', 11100000, 'primary'],\n",
    "        ['Moscow', 10452000, 'primary'],\n",
    "        ['Istanbul', 10061000, 'admin'],\n",
    "        ['Paris', 9904000, 'primary']]\n",
    "```"
   ]
  },
  {
   "cell_type": "code",
   "execution_count": null,
   "metadata": {},
   "outputs": [
    {
     "name": "stdout",
     "output_type": "stream",
     "text": [
      "Cities: Beijing, Buenos Aires, Cairo, Dhaka, Manila, Mexico City, Moscow, Tokyo,\n"
     ]
    }
   ],
   "source": [
    "from functools import reduce\n",
    "\n",
    "data = [['Tokyo', 35676000, 'primary'],\n",
    "        ['New York', 19354922, 'nan'],\n",
    "        ['Mexico City', 19028000, 'primary'],\n",
    "        ['Mumbai', 18978000, 'admin'],\n",
    "        ['Sao Paulo', 18845000, 'admin'],\n",
    "        ['Delhi', 15926000, 'admin'],\n",
    "        ['Shanghai', 14987000, 'admin'],\n",
    "        ['Kolkata', 14787000, 'admin'],\n",
    "        ['Los Angeles', 12815475, 'nan'],\n",
    "        ['Dhaka', 12797394, 'primary'],\n",
    "        ['Buenos Aires', 12795000, 'primary'],\n",
    "        ['Karachi', 12130000, 'admin'],\n",
    "        ['Cairo', 11893000, 'primary'],\n",
    "        ['Rio de Janeiro', 11748000, 'admin'],\n",
    "        ['Osaka', 11294000, 'admin'],\n",
    "        ['Beijing', 11106000, 'primary'],\n",
    "        ['Manila', 11100000, 'primary'],\n",
    "        ['Moscow', 10452000, 'primary'],\n",
    "        ['Istanbul', 10061000, 'admin'],\n",
    "        ['Paris', 9904000, 'primary']]\n",
    "\n",
    "filter_list = list(filter(lambda x: x[1] > 10000000 and x[2] == 'primary', data))\n",
    "sort_list = sorted(filter_list)\n",
    "map_list = map(lambda x: x[0] + ',', sort_list)\n",
    "print('Cities:', *map_list)"
   ]
  },
  {
   "cell_type": "markdown",
   "metadata": {},
   "source": [
    "# Задание 5"
   ]
  },
  {
   "cell_type": "markdown",
   "metadata": {},
   "source": [
    "Напишите функцию, чтобы проверить, является ли строка действительным адресом электронной почты или нет. Электронное письмо представляет собой символ (подмножество символов ASCII), разделенный на две части символом @, «personal_info» и доменом, то есть Personal_info@domain.\n",
    "\n",
    "Примечание. В функции должно быть использоваться регулярное выражение\n"
   ]
  },
  {
   "cell_type": "code",
   "execution_count": null,
   "metadata": {},
   "outputs": [
    {
     "name": "stdout",
     "output_type": "stream",
     "text": [
      "Введите адрес электронной почты: test@mail.ru\n",
      "Адрес test@mail.ru: Действительный\n"
     ]
    }
   ],
   "source": [
    "import re\n",
    "\n",
    "def check_email(email: str):\n",
    "  pattern = r'^[a-zA-Z0-9._%+-]+@[a-zA-Z0-9.-]+\\.[a-zA-Z]{2,}$'\n",
    "  return re.match(pattern, email) is not None\n",
    "\n",
    "email = input('Введите адрес электронной почты: ')\n",
    "\n",
    "print(f\"Адрес {email}: {'Действительный' if check_email(email) else 'Недействительный'}\")"
   ]
  }
 ],
 "metadata": {
  "language_info": {
   "name": "python"
  }
 },
 "nbformat": 4,
 "nbformat_minor": 2
}
